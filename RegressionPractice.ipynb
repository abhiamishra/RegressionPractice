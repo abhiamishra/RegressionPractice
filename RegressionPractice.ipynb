{
  "nbformat": 4,
  "nbformat_minor": 0,
  "metadata": {
    "colab": {
      "name": "RegressionPractice.ipynb",
      "provenance": [],
      "collapsed_sections": [],
      "include_colab_link": true
    },
    "kernelspec": {
      "name": "python3",
      "display_name": "Python 3"
    },
    "language_info": {
      "name": "python"
    }
  },
  "cells": [
    {
      "cell_type": "markdown",
      "metadata": {
        "id": "view-in-github",
        "colab_type": "text"
      },
      "source": [
        "<a href=\"https://colab.research.google.com/github/abhiamishra/RegressionPractice/blob/main/RegressionPractice.ipynb\" target=\"_parent\"><img src=\"https://colab.research.google.com/assets/colab-badge.svg\" alt=\"Open In Colab\"/></a>"
      ]
    },
    {
      "cell_type": "markdown",
      "metadata": {
        "id": "kMZmYmwoAY3-"
      },
      "source": [
        "Importing the packages that we'll use generally throughout the program"
      ]
    },
    {
      "cell_type": "code",
      "metadata": {
        "id": "g-bwNpMbAd1A"
      },
      "source": [
        "import numpy as np\n",
        "import matplotlib.pyplot as plt\n",
        "import pandas as pd"
      ],
      "execution_count": null,
      "outputs": []
    },
    {
      "cell_type": "code",
      "metadata": {
        "id": "uYEEFM9JiRJf"
      },
      "source": [
        "np.random.seed(31419)"
      ],
      "execution_count": null,
      "outputs": []
    },
    {
      "cell_type": "markdown",
      "metadata": {
        "id": "kd2T5OMy5Ipn"
      },
      "source": [
        "Importing the dataset\n"
      ]
    },
    {
      "cell_type": "code",
      "metadata": {
        "id": "bnlLY0z25KHg"
      },
      "source": [
        "data = pd.read_csv('RegressionPractice.csv')\n",
        "features = data.iloc[:,1:-1].values\n",
        "results = data.iloc[:,-1].values"
      ],
      "execution_count": null,
      "outputs": []
    },
    {
      "cell_type": "code",
      "metadata": {
        "colab": {
          "base_uri": "https://localhost:8080/"
        },
        "id": "nvFfTVl4g-7m",
        "outputId": "7c5a98c5-1909-45b4-9a56-dcd3b1d4306e"
      },
      "source": [
        "print(features)"
      ],
      "execution_count": null,
      "outputs": [
        {
          "output_type": "stream",
          "text": [
            "[['Arsenal' 61.5 1.66 ... 1.36 0.33 0.02]\n",
            " ['Bournemouth' 47.8 1.13 ... 1.44 0.32 -0.16]\n",
            " ['Brighton' 43.7 0.96 ... 1.43 0.31 0.11]\n",
            " ...\n",
            " ['Watford' 42.5 1.19 ... 1.53 0.31 -0.07]\n",
            " ['West Ham' 44.0 1.22 ... 1.54 0.3 -0.01]\n",
            " ['Wolves' 48.3 1.24 ... 1.06 0.32 0.03]]\n"
          ],
          "name": "stdout"
        }
      ]
    },
    {
      "cell_type": "code",
      "metadata": {
        "id": "y9bm7O6z5hjT"
      },
      "source": [
        "from sklearn.compose import ColumnTransformer\n",
        "from sklearn.preprocessing import OneHotEncoder\n",
        "ct = ColumnTransformer(transformers=[('encoder', OneHotEncoder(), [0])], remainder='passthrough')\n",
        "X_train = np.array(ct.fit_transform(X_train))"
      ],
      "execution_count": null,
      "outputs": []
    },
    {
      "cell_type": "markdown",
      "metadata": {
        "id": "1hKdY13q7RWQ"
      },
      "source": [
        "Splitting the Dataset into Test and Training Set\n"
      ]
    },
    {
      "cell_type": "code",
      "metadata": {
        "id": "hutSyw9c7Uqz"
      },
      "source": [
        "from sklearn.model_selection import train_test_split\n",
        "X_train, X_test, y_train, y_test = train_test_split(X, results, test_size = 0.2)"
      ],
      "execution_count": null,
      "outputs": []
    },
    {
      "cell_type": "markdown",
      "metadata": {
        "id": "VsZtN0Sc7A50"
      },
      "source": [
        "Constructing the Model\n"
      ]
    },
    {
      "cell_type": "code",
      "metadata": {
        "colab": {
          "base_uri": "https://localhost:8080/"
        },
        "id": "kbXaCjoq96_v",
        "outputId": "1e2ca69e-1207-4c87-d9a1-e7c4d3bab950"
      },
      "source": [
        "from sklearn.ensemble import RandomForestRegressor\n",
        "regressor = RandomForestRegressor(n_estimators=1000, random_state = 0)\n",
        "regressor.fit(X_train,y_train)"
      ],
      "execution_count": null,
      "outputs": [
        {
          "output_type": "execute_result",
          "data": {
            "text/plain": [
              "RandomForestRegressor(bootstrap=True, ccp_alpha=0.0, criterion='mse',\n",
              "                      max_depth=None, max_features='auto', max_leaf_nodes=None,\n",
              "                      max_samples=None, min_impurity_decrease=0.0,\n",
              "                      min_impurity_split=None, min_samples_leaf=1,\n",
              "                      min_samples_split=2, min_weight_fraction_leaf=0.0,\n",
              "                      n_estimators=1000, n_jobs=None, oob_score=False,\n",
              "                      random_state=0, verbose=0, warm_start=False)"
            ]
          },
          "metadata": {
            "tags": []
          },
          "execution_count": 96
        }
      ]
    },
    {
      "cell_type": "markdown",
      "metadata": {
        "id": "2VLeswe58AdX"
      },
      "source": [
        "Predicting Our Results\n"
      ]
    },
    {
      "cell_type": "code",
      "metadata": {
        "id": "K5RB3k1180ty"
      },
      "source": [
        "y_pred = regressor.predict(X_test)"
      ],
      "execution_count": null,
      "outputs": []
    },
    {
      "cell_type": "markdown",
      "metadata": {
        "id": "aDei3h8qZRiw"
      },
      "source": [
        "This is what we predict for the teams chosen for our test-cases:"
      ]
    },
    {
      "cell_type": "code",
      "metadata": {
        "colab": {
          "base_uri": "https://localhost:8080/"
        },
        "id": "jXakeXkC9w8B",
        "outputId": "2927f174-328b-486c-bd8c-a7d5e2b53be7"
      },
      "source": [
        "print(y_pred)"
      ],
      "execution_count": null,
      "outputs": [
        {
          "output_type": "stream",
          "text": [
            "[ 9.193  2.734  2.238  5.058 17.07  12.095 11.7   16.105 16.919  9.787\n",
            "  4.472 10.707]\n"
          ],
          "name": "stdout"
        }
      ]
    },
    {
      "cell_type": "markdown",
      "metadata": {
        "id": "tB5ivvTCZWO6"
      },
      "source": [
        "This what the teams actually positioned:\n"
      ]
    },
    {
      "cell_type": "code",
      "metadata": {
        "colab": {
          "base_uri": "https://localhost:8080/"
        },
        "id": "jovDCUz184Qh",
        "outputId": "8376b383-0957-4796-d511-fda662146867"
      },
      "source": [
        "print(y_test)"
      ],
      "execution_count": null,
      "outputs": [
        {
          "output_type": "stream",
          "text": [
            "[ 8  3  4  6 18  9 16 19 20  7  4 11]\n"
          ],
          "name": "stdout"
        }
      ]
    },
    {
      "cell_type": "markdown",
      "metadata": {
        "id": "ozpqMsvfy9H3"
      },
      "source": [
        "For easy comparisons. The numbers on the left are what we predicted and the numbers on the right are what were the actual results:"
      ]
    },
    {
      "cell_type": "code",
      "metadata": {
        "colab": {
          "base_uri": "https://localhost:8080/"
        },
        "id": "pwVzlbQJy7Ha",
        "outputId": "8a40ee96-89de-4355-efa8-709f2cb5fecc"
      },
      "source": [
        "print(np.concatenate((y_pred.reshape(len(y_pred),1), \n",
        "                      y_test.reshape(len(y_test),1)),\n",
        "                     axis=1))"
      ],
      "execution_count": null,
      "outputs": [
        {
          "output_type": "stream",
          "text": [
            "[[ 9.193  8.   ]\n",
            " [ 2.734  3.   ]\n",
            " [ 2.238  4.   ]\n",
            " [ 5.058  6.   ]\n",
            " [17.07  18.   ]\n",
            " [12.095  9.   ]\n",
            " [11.7   16.   ]\n",
            " [16.105 19.   ]\n",
            " [16.919 20.   ]\n",
            " [ 9.787  7.   ]\n",
            " [ 4.472  4.   ]\n",
            " [10.707 11.   ]]\n"
          ],
          "name": "stdout"
        }
      ]
    },
    {
      "cell_type": "markdown",
      "metadata": {
        "id": "wA22PFoFZaCp"
      },
      "source": [
        "Accuracy score for your model! Closer to 1 = better! "
      ]
    },
    {
      "cell_type": "code",
      "metadata": {
        "colab": {
          "base_uri": "https://localhost:8080/"
        },
        "id": "HrKbHmCQ9UCg",
        "outputId": "453de115-d04c-442c-b1f5-7fd8e062eab5"
      },
      "source": [
        "from sklearn.metrics import r2_score\n",
        "r2_score(y_test, y_pred)"
      ],
      "execution_count": null,
      "outputs": [
        {
          "output_type": "execute_result",
          "data": {
            "text/plain": [
              "0.8599044068845484"
            ]
          },
          "metadata": {
            "tags": []
          },
          "execution_count": 101
        }
      ]
    }
  ]
}